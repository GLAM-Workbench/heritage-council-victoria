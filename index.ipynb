{
 "cells": [
  {
   "cell_type": "markdown",
   "id": "1a86c53c",
   "metadata": {},
   "source": [
    "# Heritage Council of Victoria\n",
    "\n",
    "Current version: [v1.1.0](https://github.com/GLAM-Workbench/heritage-council-victoria/releases/tag/v1.1.0)\n",
    "\n",
    "A collection of examples using the [Victorian Heritage Database API](https://api.heritagecouncil.vic.gov.au/documentation). For more information see the [Heritage Council of Victoria](https://glam-workbench.net/heritage-council-of-victoria/) section of the GLAM Workbench.\n",
    "\n",
    "## Notebook topics\n",
    "\n",
    "* [Introduction to the Victorian Heritage Database API](introduction_victorian_heritage_api.ipynb)\n",
    "* [Shipwrecks in the Victorian Heritage Database](shipwrecks.ipynb) – explores what you can discover about shipwrecks using the Victorian Heritage Database API\n"
   ]
  },
  {
   "cell_type": "markdown",
   "id": "205e4d72",
   "metadata": {},
   "source": [
    "## Cite as\n",
    "\n",
    "See the [GLAM Workbench](https://glam-workbench.net/heritage-council-of-victoria/#cite-as) or [Zenodo](https://doi.org/10.5281/zenodo.6622312) for up-to-date citation details.\n",
    "\n",
    "----\n",
    "\n",
    "This repository is part of the [GLAM Workbench](https://glam-workbench.github.io/).  \n"
   ]
  }
 ],
 "metadata": {
  "jupytext": {
   "cell_metadata_filter": "-all"
  },
  "kernelspec": {
   "display_name": "Python 3 (ipykernel)",
   "language": "python",
   "name": "python3"
  }
 },
 "nbformat": 4,
 "nbformat_minor": 5
}

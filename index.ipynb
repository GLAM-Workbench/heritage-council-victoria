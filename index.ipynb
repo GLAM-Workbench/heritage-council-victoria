{
 "cells": [
  {
   "cell_type": "markdown",
   "id": "f770953b",
   "metadata": {},
   "source": [
    "# Heritage Council of Victoria\n",
    "\n",
    "Current version: [v1.0.0](https://github.com/GLAM-Workbench/heritage-council-victoria/releases/tag/v1.0.0)\n",
    "\n",
    "A collection of examples using the [Victorian Heritage Database API](https://api.heritagecouncil.vic.gov.au/documentation). For more information see the [Heritage Council of Victoria](https://glam-workbench.net/heritage-council-of-victoria/) section of the GLAM Workbench.\n",
    "\n",
    "## Notebook topics\n",
    "\n",
    "* [Introduction to the Victorian Heritage Database API](introduction_victorian_heritage_api.ipynb)\n",
    "\n"
   ]
  },
  {
   "cell_type": "markdown",
   "id": "b94e5f99",
   "metadata": {},
   "source": [
    "----\n",
    "\n",
    "This repository is part of the [GLAM Workbench](https://glam-workbench.github.io/).  \n"
   ]
  }
 ],
 "metadata": {
  "jupytext": {
   "cell_metadata_filter": "-all"
  },
  "kernelspec": {
   "display_name": "Python 3 (ipykernel)",
   "language": "python",
   "name": "python3"
  }
 },
 "nbformat": 4,
 "nbformat_minor": 5
}
